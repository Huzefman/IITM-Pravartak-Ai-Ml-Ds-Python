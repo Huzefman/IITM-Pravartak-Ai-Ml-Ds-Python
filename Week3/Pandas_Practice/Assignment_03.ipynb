{
 "cells": [
  {
   "cell_type": "code",
   "execution_count": 1,
   "id": "f36ec97c",
   "metadata": {},
   "outputs": [],
   "source": [
    "import pandas as pd\n",
    "\n",
    "tips_data=pd.read_csv('../../DataSets/Tips.csv',index_col=0)\n",
    "tips_data1=tips_data.copy()"
   ]
  },
  {
   "cell_type": "code",
   "execution_count": 2,
   "id": "80e30ec3",
   "metadata": {},
   "outputs": [],
   "source": [
    "#To get Numerical data from give dataset\n",
    "numerical_data=tips_data1.select_dtypes(exclude=[object])"
   ]
  },
  {
   "cell_type": "code",
   "execution_count": 8,
   "id": "a910ba03",
   "metadata": {},
   "outputs": [
    {
     "name": "stdout",
     "output_type": "stream",
     "text": [
      "           TotalBill      Tips      Size\n",
      "TotalBill   1.000000  0.764716  0.587403\n",
      "Tips        0.764716  1.000000  0.448241\n",
      "Size        0.587403  0.448241  1.000000\n"
     ]
    }
   ],
   "source": [
    "#To get Correlation Matrix\n",
    "corr_matrix=numerical_data.corr()\n",
    "print(corr_matrix)"
   ]
  },
  {
   "cell_type": "code",
   "execution_count": 9,
   "id": "accb279e",
   "metadata": {},
   "outputs": [
    {
     "name": "stdout",
     "output_type": "stream",
     "text": [
      "        TotalBill        Tips        Size\n",
      "count  100.000000  100.000000  100.000000\n",
      "mean    19.805408    3.036170    2.525253\n",
      "std      7.870096    1.164819    0.820734\n",
      "min      3.070000    1.000000    1.000000\n",
      "25%     15.032500    2.080000    2.000000\n",
      "50%     18.290000    3.000000    2.000000\n",
      "75%     23.775000    3.502500    3.000000\n",
      "max     48.270000    6.730000    4.000000\n"
     ]
    }
   ],
   "source": [
    "#To get basic stats of tips_data\n",
    "description=tips_data1.describe()\n",
    "print(description)"
   ]
  },
  {
   "cell_type": "code",
   "execution_count": 5,
   "id": "6eccaf09",
   "metadata": {},
   "outputs": [
    {
     "name": "stdout",
     "output_type": "stream",
     "text": [
      "TotalBill    2\n",
      "Tips         6\n",
      "Smoker       7\n",
      "Day          7\n",
      "Time         3\n",
      "Size         1\n",
      "Gender       7\n",
      "dtype: int64\n"
     ]
    }
   ],
   "source": [
    "#To get count missing values in each column\n",
    "print(tips_data1.isna().sum())"
   ]
  },
  {
   "cell_type": "code",
   "execution_count": 10,
   "id": "1482f0e6",
   "metadata": {},
   "outputs": [
    {
     "name": "stdout",
     "output_type": "stream",
     "text": [
      "Empty DataFrame\n",
      "Columns: [TotalBill, Tips, Smoker, Day, Time, Size, Gender]\n",
      "Index: []\n"
     ]
    }
   ],
   "source": [
    "#Getting a subset of rows with atleast one missing values\n",
    "missing=tips_data1[tips_data1.isna().any(axis=1)]\n",
    "print(missing)"
   ]
  },
  {
   "cell_type": "code",
   "execution_count": 7,
   "id": "c56c00e4",
   "metadata": {},
   "outputs": [
    {
     "name": "stdout",
     "output_type": "stream",
     "text": [
      "TotalBill    0\n",
      "Tips         0\n",
      "Smoker       0\n",
      "Day          0\n",
      "Time         0\n",
      "Size         0\n",
      "Gender       0\n",
      "dtype: int64\n"
     ]
    }
   ],
   "source": [
    "#Filling numerical values using lambda function\n",
    "tips_data1=tips_data1.apply(lambda x: x.fillna(x.mean()) if x.dtype=='float' else x.fillna(x.value_counts().index[0]))\n",
    "\n",
    "print(tips_data1.isna().sum())"
   ]
  }
 ],
 "metadata": {
  "kernelspec": {
   "display_name": "base",
   "language": "python",
   "name": "python3"
  },
  "language_info": {
   "codemirror_mode": {
    "name": "ipython",
    "version": 3
   },
   "file_extension": ".py",
   "mimetype": "text/x-python",
   "name": "python",
   "nbconvert_exporter": "python",
   "pygments_lexer": "ipython3",
   "version": "3.12.7"
  }
 },
 "nbformat": 4,
 "nbformat_minor": 5
}
