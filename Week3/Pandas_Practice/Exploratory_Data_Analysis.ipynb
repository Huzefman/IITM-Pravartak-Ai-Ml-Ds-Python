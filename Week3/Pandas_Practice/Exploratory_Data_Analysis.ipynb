{
 "cells": [
  {
   "cell_type": "code",
   "execution_count": 1,
   "id": "3943fda5",
   "metadata": {},
   "outputs": [],
   "source": [
    "import pandas as pd\n",
    "\n",
    "cars_data=pd.read_csv('../../DataSets/Toyota.csv',index_col=0,na_values=['????','??'])\n",
    "cars_data1=cars_data.copy()"
   ]
  },
  {
   "cell_type": "code",
   "execution_count": 2,
   "id": "237f1d61",
   "metadata": {},
   "outputs": [
    {
     "name": "stdout",
     "output_type": "stream",
     "text": [
      "Creating a simple frequency table corsstabulation\n",
      "col_0     count\n",
      "FuelType       \n",
      "CNG          15\n",
      "Diesel      144\n",
      "Petrol     1177\n"
     ]
    }
   ],
   "source": [
    "print(\"Creating a simple frequency table corsstabulation\")\n",
    "fuelType_count=pd.crosstab(index=cars_data1['FuelType'], columns='count',dropna=True)\n",
    "print(fuelType_count)"
   ]
  },
  {
   "cell_type": "code",
   "execution_count": 3,
   "id": "83012b96",
   "metadata": {},
   "outputs": [
    {
     "name": "stdout",
     "output_type": "stream",
     "text": [
      "Creating a two way table - joint probability\n",
      "FuelType        CNG    Diesel    Petrol\n",
      "Automatic                              \n",
      "0          0.011228  0.107784  0.826347\n",
      "1          0.000000  0.000000  0.054641\n"
     ]
    }
   ],
   "source": [
    "print(\"Creating a two way table - joint probability\")\n",
    "automatic_fuelType=pd.crosstab(index=cars_data1['Automatic'], columns=cars_data1['FuelType'],dropna=True,normalize=True)\n",
    "print(automatic_fuelType)"
   ]
  },
  {
   "cell_type": "code",
   "execution_count": 4,
   "id": "4455de5a",
   "metadata": {},
   "outputs": [
    {
     "name": "stdout",
     "output_type": "stream",
     "text": [
      "Creating a two way table - marginal probabitliy\n",
      "FuelType        CNG    Diesel    Petrol\n",
      "Automatic                              \n",
      "0          0.011228  0.107784  0.826347\n",
      "1          0.000000  0.000000  0.054641\n"
     ]
    }
   ],
   "source": [
    "print(\"Creating a two way table - marginal probabitliy\")\n",
    "automatic_fuelType1=pd.crosstab(index=cars_data1['Automatic'], columns=cars_data1['FuelType'],dropna=True,margins=True,normalize=True)\n",
    "print(automatic_fuelType)"
   ]
  },
  {
   "cell_type": "code",
   "execution_count": 5,
   "id": "c2d7075d",
   "metadata": {},
   "outputs": [
    {
     "name": "stdout",
     "output_type": "stream",
     "text": [
      "Creating a two way table - conditional proabbility\n",
      "FuelType        CNG    Diesel    Petrol\n",
      "Automatic                              \n",
      "0          0.011876  0.114014  0.874109\n",
      "1          0.000000  0.000000  1.000000\n",
      "All        0.011228  0.107784  0.880988\n",
      "FuelType   CNG  Diesel    Petrol       All\n",
      "Automatic                                 \n",
      "0          1.0     1.0  0.937978  0.945359\n",
      "1          0.0     0.0  0.062022  0.054641\n"
     ]
    }
   ],
   "source": [
    "print(\"Creating a two way table - conditional proabbility\")\n",
    "automatic_fuelType2=pd.crosstab(index=cars_data1['Automatic'], columns=cars_data1['FuelType'],dropna=True,margins=True,normalize='index')\n",
    "automatic_fuelType3=pd.crosstab(index=cars_data1['Automatic'], columns=cars_data1['FuelType'],dropna=True,margins=True,normalize='columns')\n",
    "print(automatic_fuelType2)\n",
    "print(automatic_fuelType3)"
   ]
  },
  {
   "cell_type": "code",
   "execution_count": 7,
   "id": "e9d898f9",
   "metadata": {},
   "outputs": [
    {
     "name": "stdout",
     "output_type": "stream",
     "text": [
      "Obtaining Correlation Matrix\n",
      "(1436, 8)\n",
      "              Price       Age        KM        HP  MetColor  Automatic  \\\n",
      "Price      1.000000 -0.878407 -0.574720  0.309902  0.112041   0.033081   \n",
      "Age       -0.878407  1.000000  0.512735 -0.157904 -0.099659   0.032573   \n",
      "KM        -0.574720  0.512735  1.000000 -0.335285 -0.093825  -0.081248   \n",
      "HP         0.309902 -0.157904 -0.335285  1.000000  0.064749   0.013755   \n",
      "MetColor   0.112041 -0.099659 -0.093825  0.064749  1.000000  -0.013973   \n",
      "Automatic  0.033081  0.032573 -0.081248  0.013755 -0.013973   1.000000   \n",
      "CC         0.165067 -0.120706  0.299993  0.053758  0.029189  -0.069321   \n",
      "Weight     0.581198 -0.464299 -0.026271  0.086737  0.057142   0.057249   \n",
      "\n",
      "                 CC    Weight  \n",
      "Price      0.165067  0.581198  \n",
      "Age       -0.120706 -0.464299  \n",
      "KM         0.299993 -0.026271  \n",
      "HP         0.053758  0.086737  \n",
      "MetColor   0.029189  0.057142  \n",
      "Automatic -0.069321  0.057249  \n",
      "CC         1.000000  0.651450  \n",
      "Weight     0.651450  1.000000  \n"
     ]
    }
   ],
   "source": [
    "print(\"Obtaining Correlation Matrix\")\n",
    "#first getting all the numerical data from original data as correlation can be only performed on numerical data not on objects or categorical data\n",
    "numericalData=cars_data1.select_dtypes(exclude=[object])\n",
    "#second check the dimension of obtained numericalData\n",
    "print(numericalData.shape)\n",
    "#now the correlation matrix\n",
    "corr_matrix=numericalData.corr()\n",
    "print(corr_matrix)"
   ]
  }
 ],
 "metadata": {
  "kernelspec": {
   "display_name": "base",
   "language": "python",
   "name": "python3"
  },
  "language_info": {
   "codemirror_mode": {
    "name": "ipython",
    "version": 3
   },
   "file_extension": ".py",
   "mimetype": "text/x-python",
   "name": "python",
   "nbconvert_exporter": "python",
   "pygments_lexer": "ipython3",
   "version": "3.12.7"
  }
 },
 "nbformat": 4,
 "nbformat_minor": 5
}
