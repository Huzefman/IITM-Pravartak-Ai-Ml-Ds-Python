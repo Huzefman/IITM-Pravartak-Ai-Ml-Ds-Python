{
 "cells": [
  {
   "cell_type": "code",
   "execution_count": 1,
   "id": "5709d1ea",
   "metadata": {},
   "outputs": [],
   "source": [
    "import pandas as pd\n",
    "\n",
    "cars_data=pd.read_csv('../../DataSets/Toyota.csv',index_col=0,na_values=['??','????'])\n",
    "cars_data1=cars_data.copy()"
   ]
  },
  {
   "cell_type": "code",
   "execution_count": 2,
   "id": "7d2996d0",
   "metadata": {},
   "outputs": [
    {
     "name": "stdout",
     "output_type": "stream",
     "text": [
      "Getting no of missing values in each column\n",
      "Price          0\n",
      "Age          100\n",
      "KM            15\n",
      "FuelType     100\n",
      "HP             6\n",
      "MetColor     150\n",
      "Automatic      0\n",
      "CC             0\n",
      "Doors          0\n",
      "Weight         0\n",
      "dtype: int64\n"
     ]
    }
   ],
   "source": [
    "print(\"Getting no of missing values in each column\")\n",
    "print(cars_data1.isna().sum())"
   ]
  },
  {
   "cell_type": "code",
   "execution_count": 4,
   "id": "3672cf0c",
   "metadata": {},
   "outputs": [
    {
     "name": "stdout",
     "output_type": "stream",
     "text": [
      "Getting the rows which have atleast one column value missing\n",
      "      Price   Age       KM FuelType    HP  MetColor  Automatic    CC Doors  \\\n",
      "2     13950  24.0  41711.0   Diesel  90.0       NaN          0  2000     3   \n",
      "6     16900  27.0      NaN   Diesel   NaN       NaN          0  2000     3   \n",
      "7     18600  30.0  75889.0      NaN  90.0       1.0          0  2000     3   \n",
      "9     12950  23.0  71138.0   Diesel   NaN       NaN          0  1900     3   \n",
      "15    22000  28.0  18739.0   Petrol   NaN       0.0          0  1800     3   \n",
      "...     ...   ...      ...      ...   ...       ...        ...   ...   ...   \n",
      "1428   8450  72.0      NaN   Petrol  86.0       NaN          0  1300     3   \n",
      "1431   7500   NaN  20544.0   Petrol  86.0       1.0          0  1300     3   \n",
      "1432  10845  72.0      NaN   Petrol  86.0       0.0          0  1300     3   \n",
      "1433   8500   NaN  17016.0   Petrol  86.0       0.0          0  1300     3   \n",
      "1434   7250  70.0      NaN      NaN  86.0       1.0          0  1300     3   \n",
      "\n",
      "      Weight  \n",
      "2       1165  \n",
      "6       1245  \n",
      "7       1245  \n",
      "9       1105  \n",
      "15      1185  \n",
      "...      ...  \n",
      "1428    1015  \n",
      "1431    1025  \n",
      "1432    1015  \n",
      "1433    1015  \n",
      "1434    1015  \n",
      "\n",
      "[340 rows x 10 columns]\n"
     ]
    }
   ],
   "source": [
    "print(\"Getting the rows which have atleast one column value missing\")\n",
    "\n",
    "missing=cars_data1[cars_data1.isnull().any(axis=1)]\n",
    "print(missing)"
   ]
  },
  {
   "cell_type": "code",
   "execution_count": 6,
   "id": "999e99da",
   "metadata": {},
   "outputs": [
    {
     "name": "stdout",
     "output_type": "stream",
     "text": [
      "Getting information stats about give Data\n",
      "              Price          Age             KM           HP     MetColor  \\\n",
      "count   1436.000000  1336.000000    1421.000000  1430.000000  1286.000000   \n",
      "mean   10730.824513    55.672156   68647.239972   101.478322     0.674961   \n",
      "std     3626.964585    18.589804   37333.023589    14.768255     0.468572   \n",
      "min     4350.000000     1.000000       1.000000    69.000000     0.000000   \n",
      "25%     8450.000000    43.000000   43210.000000    90.000000     0.000000   \n",
      "50%     9900.000000    60.000000   63634.000000   110.000000     1.000000   \n",
      "75%    11950.000000    70.000000   87000.000000   110.000000     1.000000   \n",
      "max    32500.000000    80.000000  243000.000000   192.000000     1.000000   \n",
      "\n",
      "         Automatic           CC      Weight  \n",
      "count  1436.000000  1436.000000  1436.00000  \n",
      "mean      0.055710  1566.827994  1072.45961  \n",
      "std       0.229441   187.182436    52.64112  \n",
      "min       0.000000  1300.000000  1000.00000  \n",
      "25%       0.000000  1400.000000  1040.00000  \n",
      "50%       0.000000  1600.000000  1070.00000  \n",
      "75%       0.000000  1600.000000  1085.00000  \n",
      "max       1.000000  2000.000000  1615.00000  \n"
     ]
    }
   ],
   "source": [
    "print(\"Getting information stats about give Data\")\n",
    "description=cars_data1.describe()\n",
    "print(description)"
   ]
  },
  {
   "cell_type": "code",
   "execution_count": 7,
   "id": "b319b6a5",
   "metadata": {},
   "outputs": [
    {
     "name": "stdout",
     "output_type": "stream",
     "text": [
      "Filling all the missing values in one shot using lambda function\n",
      "Filling all missing values in one shot using lambda function\n",
      "Price        0\n",
      "Age          0\n",
      "KM           0\n",
      "FuelType     0\n",
      "HP           0\n",
      "MetColor     0\n",
      "Automatic    0\n",
      "CC           0\n",
      "Doors        0\n",
      "Weight       0\n",
      "dtype: int64\n"
     ]
    }
   ],
   "source": [
    "print(\"Filling all the missing values in one shot using lambda function\")\n",
    "print(\"Filling all missing values in one shot using lambda function\")\n",
    "cars_data1=cars_data1.apply(lambda x: x.fillna(x.mean()) if x.dtype=='float' else x.fillna(x.mode()[0]))\n",
    "\n",
    "print(cars_data1.isna().sum())"
   ]
  }
 ],
 "metadata": {
  "kernelspec": {
   "display_name": "base",
   "language": "python",
   "name": "python3"
  },
  "language_info": {
   "codemirror_mode": {
    "name": "ipython",
    "version": 3
   },
   "file_extension": ".py",
   "mimetype": "text/x-python",
   "name": "python",
   "nbconvert_exporter": "python",
   "pygments_lexer": "ipython3",
   "version": "3.12.7"
  }
 },
 "nbformat": 4,
 "nbformat_minor": 5
}
