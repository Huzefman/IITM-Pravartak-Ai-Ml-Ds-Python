{
 "cells": [
  {
   "cell_type": "code",
   "execution_count": 1,
   "id": "e3cdef0b",
   "metadata": {},
   "outputs": [
    {
     "name": "stdout",
     "output_type": "stream",
     "text": [
      "This is demo for reading data from csv\n"
     ]
    }
   ],
   "source": [
    "import pandas as pd\n",
    "\n",
    "print(\"This is demo for reading data from csv\")\n",
    "\n",
    "data_csv1=pd.read_csv('../../DataSets/Iris_data_sample.csv')\n",
    "data_csv2=pd.read_csv('../../DataSets/Iris_data_sample.csv',index_col=0)\n",
    "data_csv3=pd.read_csv('../../DataSets/Iris_data_sample.csv',index_col=0,na_values=[\"??\",\"###\"])"
   ]
  },
  {
   "cell_type": "code",
   "execution_count": 2,
   "id": "5e5ebb49",
   "metadata": {},
   "outputs": [
    {
     "name": "stdout",
     "output_type": "stream",
     "text": [
      "This is demo for reading data from excel\n"
     ]
    }
   ],
   "source": [
    "print(\"This is demo for reading data from excel\")\n",
    "\n",
    "data_xslv1=pd.read_excel('../../DataSets/Iris_data_sample.xlsx')\n",
    "data_xslv2=pd.read_excel('../../DataSets/Iris_data_sample.xlsx',index_col=0)\n",
    "data_xslv3=pd.read_excel('../../DataSets/Iris_data_sample.xlsx',index_col=0,na_values=[\"??\",\"###\"])"
   ]
  },
  {
   "cell_type": "code",
   "execution_count": 3,
   "id": "a2ff1e84",
   "metadata": {},
   "outputs": [
    {
     "name": "stdout",
     "output_type": "stream",
     "text": [
      "This is demo for reading data from txt\n"
     ]
    }
   ],
   "source": [
    "print(\"This is demo for reading data from txt\")\n",
    "\n",
    "data_txt1=pd.read_table('../../DataSets/Iris_data_sample.txt')\n",
    "data_txt2=pd.read_table('../../DataSets/Iris_data_sample.txt',index_col=0, sep=' ')\n",
    "data_txt3=pd.read_csv('../../DataSets/Iris_data_sample.txt',index_col=0, sep=' ')"
   ]
  },
  {
   "cell_type": "code",
   "execution_count": 4,
   "id": "d8d6b1f6",
   "metadata": {},
   "outputs": [
    {
     "name": "stdout",
     "output_type": "stream",
     "text": [
      "This is demo for shallow copy\n"
     ]
    }
   ],
   "source": [
    "print(\"This is demo for shallow copy\")\n",
    "\n",
    "data_csv4=data_csv1.copy(deep=False)"
   ]
  },
  {
   "cell_type": "code",
   "execution_count": 5,
   "id": "3dea5c92",
   "metadata": {},
   "outputs": [
    {
     "name": "stdout",
     "output_type": "stream",
     "text": [
      "This is demo for shallow copy\n"
     ]
    }
   ],
   "source": [
    "print(\"This is demo for shallow copy\")\n",
    "\n",
    "data_csv5=data_csv1.copy(deep=False)\n",
    "data_csv6=data_csv1"
   ]
  },
  {
   "cell_type": "code",
   "execution_count": 6,
   "id": "1d656f18",
   "metadata": {},
   "outputs": [
    {
     "name": "stdout",
     "output_type": "stream",
     "text": [
      "Attributes of Data: \n",
      "Index([  1,   2,   3,   4,   5,   6,   7,   8,   9,  10,\n",
      "       ...\n",
      "       141, 142, 143, 144, 145, 146, 147, 148, 149, 150],\n",
      "      dtype='int64', length=150)\n",
      "750\n",
      "Index(['SepalLengthCm', 'SepalWidthCm', 'PetalLengthCm', 'PetalWidthCm',\n",
      "       'Species'],\n",
      "      dtype='object')\n",
      "(150, 5)\n",
      "Index            1200\n",
      "SepalLengthCm    1200\n",
      "SepalWidthCm     1200\n",
      "PetalLengthCm    1200\n",
      "PetalWidthCm     1200\n",
      "Species          1200\n",
      "dtype: int64\n",
      "2\n"
     ]
    }
   ],
   "source": [
    "print(\"Attributes of Data: \")\n",
    "\n",
    "print(data_csv3.index)\n",
    "print(data_csv3.size)\n",
    "print(data_csv3.columns)\n",
    "print(data_csv3.shape)\n",
    "print(data_csv3.memory_usage())\n",
    "print(data_csv3.ndim)"
   ]
  },
  {
   "cell_type": "code",
   "execution_count": 7,
   "id": "5529571a",
   "metadata": {},
   "outputs": [
    {
     "name": "stdout",
     "output_type": "stream",
     "text": [
      "Indexing and selecting data\n",
      "   SepalLengthCm  SepalWidthCm  PetalLengthCm  PetalWidthCm      Species\n",
      "1            5.1           3.5            1.4           0.2  Iris-setosa\n",
      "2            4.9           NaN            1.4           0.2          NaN\n",
      "3            4.7           3.2            1.3           0.2  Iris-setosa\n",
      "4            NaN           3.1            1.5           0.2  Iris-setosa\n",
      "5            5.0           3.6            NaN           0.2  Iris-setosa\n",
      "     SepalLengthCm  SepalWidthCm  PetalLengthCm  PetalWidthCm         Species\n",
      "146            6.7           3.0            5.2           2.3  Iris-virginica\n",
      "147            6.3           2.5            5.0           1.9  Iris-virginica\n",
      "148            6.5           3.0            5.2           2.0  Iris-virginica\n",
      "149            6.2           3.4            5.4           2.3  Iris-virginica\n",
      "150            5.9           3.0            5.1           1.8  Iris-virginica\n",
      "4.6\n",
      "0.4\n",
      "1      5.1\n",
      "2      4.9\n",
      "3      4.7\n",
      "4      NaN\n",
      "5      5.0\n",
      "      ... \n",
      "146    6.7\n",
      "147    6.3\n",
      "148    6.5\n",
      "149    6.2\n",
      "150    5.9\n",
      "Name: SepalLengthCm, Length: 150, dtype: float64\n"
     ]
    }
   ],
   "source": [
    "print(\"Indexing and selecting data\")\n",
    "\n",
    "print(data_csv3.head(5))\n",
    "print(data_csv3.tail(5))\n",
    "print(data_csv3.at[7,'SepalLengthCm'])\n",
    "print(data_csv3.iat[5,3])\n",
    "print(data_csv3.loc[:,'SepalLengthCm'])"
   ]
  },
  {
   "cell_type": "code",
   "execution_count": 8,
   "id": "ed7dcaef",
   "metadata": {},
   "outputs": [
    {
     "name": "stdout",
     "output_type": "stream",
     "text": [
      "Datatypes\n",
      "SepalLengthCm    float64\n",
      "SepalWidthCm     float64\n",
      "PetalLengthCm    float64\n",
      "PetalWidthCm     float64\n",
      "Species           object\n",
      "dtype: object\n",
      "<bound method DataFrame.info of      SepalLengthCm  SepalWidthCm  PetalLengthCm  PetalWidthCm         Species\n",
      "1              5.1           3.5            1.4           0.2     Iris-setosa\n",
      "2              4.9           NaN            1.4           0.2             NaN\n",
      "3              4.7           3.2            1.3           0.2     Iris-setosa\n",
      "4              NaN           3.1            1.5           0.2     Iris-setosa\n",
      "5              5.0           3.6            NaN           0.2     Iris-setosa\n",
      "..             ...           ...            ...           ...             ...\n",
      "146            6.7           3.0            5.2           2.3  Iris-virginica\n",
      "147            6.3           2.5            5.0           1.9  Iris-virginica\n",
      "148            6.5           3.0            5.2           2.0  Iris-virginica\n",
      "149            6.2           3.4            5.4           2.3  Iris-virginica\n",
      "150            5.9           3.0            5.1           1.8  Iris-virginica\n",
      "\n",
      "[150 rows x 5 columns]>\n"
     ]
    }
   ],
   "source": [
    "print(\"Datatypes\")\n",
    "\n",
    "print(data_csv3.dtypes)\n",
    "print(data_csv3.info)"
   ]
  },
  {
   "cell_type": "code",
   "execution_count": 9,
   "id": "66d991ff",
   "metadata": {},
   "outputs": [
    {
     "name": "stdout",
     "output_type": "stream",
     "text": [
      "To convert into other datatypes\n"
     ]
    }
   ],
   "source": [
    "print(\"To convert into other datatypes\")\n",
    "\n",
    "data_csv6['SepalLengthCm']=data_csv6['SepalLengthCm'].astype('object')"
   ]
  },
  {
   "cell_type": "code",
   "execution_count": 10,
   "id": "7a1bc05d",
   "metadata": {},
   "outputs": [
    {
     "name": "stdout",
     "output_type": "stream",
     "text": [
      "To replace a value\n"
     ]
    }
   ],
   "source": [
    "print(\"To replace a value\")\n",
    "\n",
    "data_csv6['SepalLengthCm']=data_csv6['SepalLengthCm'].replace('three',3)"
   ]
  },
  {
   "cell_type": "code",
   "execution_count": 11,
   "id": "18dce1a3",
   "metadata": {},
   "outputs": [
    {
     "name": "stdout",
     "output_type": "stream",
     "text": [
      "To get total bytes consumed\n",
      "1200\n"
     ]
    }
   ],
   "source": [
    "print(\"To get total bytes consumed\")\n",
    "\n",
    "print(data_csv3['SepalLengthCm'].nbytes)"
   ]
  },
  {
   "cell_type": "code",
   "execution_count": 12,
   "id": "ea4b7d49",
   "metadata": {},
   "outputs": [
    {
     "name": "stdout",
     "output_type": "stream",
     "text": [
      "To check missing values\n",
      "Unnamed: 0       0\n",
      "SepalLengthCm    0\n",
      "SepalWidthCm     1\n",
      "PetalLengthCm    1\n",
      "PetalWidthCm     0\n",
      "Species          1\n",
      "dtype: int64\n"
     ]
    }
   ],
   "source": [
    "print(\"To check missing values\")\n",
    "\n",
    "print(data_csv1.isnull().sum())"
   ]
  },
  {
   "cell_type": "code",
   "execution_count": 13,
   "id": "0aa4f858",
   "metadata": {},
   "outputs": [
    {
     "name": "stdout",
     "output_type": "stream",
     "text": [
      "To count series of unique values\n",
      "SepalLengthCm\n",
      "5.0    10\n",
      "5.1     9\n",
      "6.3     9\n",
      "5.7     8\n",
      "6.7     8\n",
      "5.8     7\n",
      "5.5     7\n",
      "6.4     7\n",
      "4.9     6\n",
      "6.1     6\n",
      "5.4     6\n",
      "6.0     6\n",
      "5.6     6\n",
      "4.8     5\n",
      "6.5     5\n",
      "6.2     4\n",
      "7.7     4\n",
      "6.9     4\n",
      "5.2     4\n",
      "4.6     3\n",
      "5.9     3\n",
      "4.4     3\n",
      "7.2     3\n",
      "6.8     3\n",
      "6.6     2\n",
      "4.7     2\n",
      "7.6     1\n",
      "7.4     1\n",
      "7.3     1\n",
      "7.0     1\n",
      "7.1     1\n",
      "5.3     1\n",
      "4.3     1\n",
      "4.5     1\n",
      "7.9     1\n",
      "Name: count, dtype: int64\n"
     ]
    }
   ],
   "source": [
    "print(\"To count series of unique values\")\n",
    "\n",
    "print(data_csv3['SepalLengthCm'].value_counts())"
   ]
  }
 ],
 "metadata": {
  "kernelspec": {
   "display_name": "base",
   "language": "python",
   "name": "python3"
  },
  "language_info": {
   "codemirror_mode": {
    "name": "ipython",
    "version": 3
   },
   "file_extension": ".py",
   "mimetype": "text/x-python",
   "name": "python",
   "nbconvert_exporter": "python",
   "pygments_lexer": "ipython3",
   "version": "3.12.7"
  }
 },
 "nbformat": 4,
 "nbformat_minor": 5
}
