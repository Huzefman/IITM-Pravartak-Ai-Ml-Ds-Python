{
 "cells": [
  {
   "cell_type": "code",
   "execution_count": 1,
   "id": "de9829e5",
   "metadata": {},
   "outputs": [],
   "source": [
    "import pandas as pd\n",
    "import scipy.stats\n",
    "\n",
    "#Importing the dataset\n",
    "cars_data=pd.read_csv('../Datasets/clean_cars_sampled.csv')"
   ]
  },
  {
   "cell_type": "code",
   "execution_count": 2,
   "id": "9c822078",
   "metadata": {},
   "outputs": [],
   "source": [
    "#Creating a copy of dataset\n",
    "cars=cars_data.copy()\n",
    "\n",
    "#Setting working range\n",
    "cars=cars[(cars['yearOfRegistration']<=2018) & (cars['yearOfRegistration']>=1950) & (cars['price']>=100) & (cars['price']<=150000) & (cars['powerPS']>=10) & (cars['powerPS']<=500)]"
   ]
  },
  {
   "cell_type": "code",
   "execution_count": 3,
   "id": "57938ebc",
   "metadata": {},
   "outputs": [],
   "source": [
    "#One sample test for mean (has price changed from $6000 since last 3 years)\n",
    "#Taking a sample of 1000 and alpha=0.05\n",
    "sample_size=1000\n",
    "sample1=cars.sample(sample_size,random_state=0)"
   ]
  },
  {
   "cell_type": "code",
   "execution_count": 4,
   "id": "996430c0",
   "metadata": {},
   "outputs": [
    {
     "name": "stdout",
     "output_type": "stream",
     "text": [
      "6557.105\n"
     ]
    }
   ],
   "source": [
    "#Postulated mean\n",
    "pos_mean=6000\n",
    "#Sample calculated mean\n",
    "print(sample1['price'].mean())"
   ]
  },
  {
   "cell_type": "code",
   "execution_count": 5,
   "id": "7de1327a",
   "metadata": {},
   "outputs": [],
   "source": [
    "#Getting test staistic value and p value\n",
    "from scipy.stats import ttest_1samp\n",
    "statistic,pvalue=ttest_1samp(sample1['price'], pos_mean)"
   ]
  },
  {
   "cell_type": "code",
   "execution_count": 6,
   "id": "a9450506",
   "metadata": {},
   "outputs": [
    {
     "name": "stdout",
     "output_type": "stream",
     "text": [
      "43153 43152\n",
      "Critical Values: [-1.96001896  1.96001896]\n",
      "Test statistic: 1.8435932299054856\n",
      "pvalue: 0.06553847556585954\n",
      "Do not reject null hypotheisis as test statistic lie in critical range and pvalue is greater than alpha (0.05)\n"
     ]
    }
   ],
   "source": [
    "#Calculating critical values\n",
    "#Getting degrees of freedom\n",
    "n=len(cars['price'])\n",
    "df=n-1\n",
    "print(n,df)\n",
    "alpha=0.05\n",
    "#t distribution\n",
    "from scipy.stats import t\n",
    "cv=t.ppf([alpha/2,1-alpha/2],df)\n",
    "print('Critical Values:',cv)\n",
    "print('Test statistic:',statistic)\n",
    "print('pvalue:',pvalue)\n",
    "print('Do not reject null hypotheisis as test statistic lie in critical range and pvalue is greater than alpha (0.05)')"
   ]
  },
  {
   "cell_type": "code",
   "execution_count": 7,
   "id": "ed0edee2",
   "metadata": {},
   "outputs": [],
   "source": [
    "#One sample test for proportion (has automatic transmission changed from 23% since last 3 years)\n",
    "from statsmodels.stats.proportion import proportions_ztest\n",
    "p0=0.23"
   ]
  },
  {
   "cell_type": "code",
   "execution_count": 8,
   "id": "ac603965",
   "metadata": {},
   "outputs": [
    {
     "name": "stderr",
     "output_type": "stream",
     "text": [
      "/var/folders/4n/qtwztn957tq_p6qm84yxsr740000gn/T/ipykernel_14383/2523856797.py:2: FutureWarning: Series.__getitem__ treating keys as positions is deprecated. In a future version, integer keys will always be treated as labels (consistent with DataFrame behavior). To access a value by position, use `ser.iloc[pos]`\n",
      "  count=sample1['gearbox'].value_counts()[1]\n"
     ]
    },
    {
     "data": {
      "text/plain": [
       "gearbox\n",
       "manual       0.783\n",
       "automatic    0.217\n",
       "Name: count, dtype: float64"
      ]
     },
     "execution_count": 8,
     "metadata": {},
     "output_type": "execute_result"
    }
   ],
   "source": [
    "#Count of automatic transmission\n",
    "count=sample1['gearbox'].value_counts()[1]\n",
    "#Proportion of different transmissions\n",
    "nobs=len(sample1['gearbox'])\n",
    "sample1['gearbox'].value_counts()/nobs"
   ]
  },
  {
   "cell_type": "code",
   "execution_count": 9,
   "id": "081a4b04",
   "metadata": {},
   "outputs": [
    {
     "name": "stdout",
     "output_type": "stream",
     "text": [
      "-0.9973155816988561 0.31861135280892805\n"
     ]
    }
   ],
   "source": [
    "#Calculating test statistic and pvalue\n",
    "statistic_oneprop,pvalue_oneprop=proportions_ztest(count=count, nobs=nobs, value=p0, alternative='two-sided', prop_var=False)\n",
    "print(statistic_oneprop, pvalue_oneprop)"
   ]
  },
  {
   "cell_type": "code",
   "execution_count": 10,
   "id": "218d6e79",
   "metadata": {},
   "outputs": [
    {
     "name": "stdout",
     "output_type": "stream",
     "text": [
      "[-1.95996398  1.95996398]\n",
      "Do not reject null hypotheisis as test statistic lie in critical range and pvalue is greater than alpha (0.05)\n"
     ]
    }
   ],
   "source": [
    "#Getting critical values from normal distribution\n",
    "from scipy.stats import norm\n",
    "cv_norm=norm.ppf([alpha/2,1-alpha/2])\n",
    "print(cv_norm)\n",
    "print('Do not reject null hypotheisis as test statistic lie in critical range and pvalue is greater than alpha (0.05)')"
   ]
  },
  {
   "cell_type": "code",
   "execution_count": 11,
   "id": "234301ed",
   "metadata": {},
   "outputs": [],
   "source": [
    "#Two sample test for mean (is the mean price for 30k-60k KM same as 70k-90k KM)\n",
    "#Subsetting the data\n",
    "km_70_90=cars[(cars.kilometer <= 90000) & (cars.kilometer>=70000)]\n",
    "km_30_60=cars[(cars.kilometer <= 60000) & (cars.kilometer>=30000)]\n",
    "sample_70_90_km=km_70_90.sample(500,random_state=0)\n",
    "sample_30_60_km=km_30_60.sample(500,random_state=0)"
   ]
  },
  {
   "cell_type": "code",
   "execution_count": 12,
   "id": "742d24c4",
   "metadata": {},
   "outputs": [
    {
     "name": "stdout",
     "output_type": "stream",
     "text": [
      "155442577.9462085\n",
      "86753098.35060078\n",
      "14515.678\n",
      "9450.59\n"
     ]
    }
   ],
   "source": [
    "#Sample Variance\n",
    "print(sample_30_60_km.price.var())\n",
    "print(sample_70_90_km.price.var())\n",
    "#Sample Mean\n",
    "print(sample_30_60_km.price.mean())\n",
    "print(sample_70_90_km.price.mean())"
   ]
  },
  {
   "cell_type": "code",
   "execution_count": 13,
   "id": "c9501923",
   "metadata": {},
   "outputs": [
    {
     "name": "stdout",
     "output_type": "stream",
     "text": [
      "0.5581038316324245\n"
     ]
    }
   ],
   "source": [
    "#Computing f statistic\n",
    "from scipy.stats import f\n",
    "F=sample_70_90_km.price.var()/sample_30_60_km.price.var()\n",
    "print(F)"
   ]
  },
  {
   "cell_type": "code",
   "execution_count": 14,
   "id": "b7f58776",
   "metadata": {},
   "outputs": [],
   "source": [
    "#Calculating degrees of freedom\n",
    "df1=len(sample_30_60_km)-1\n",
    "df2=len(sample_70_90_km)-1"
   ]
  },
  {
   "cell_type": "code",
   "execution_count": 15,
   "id": "b47bcb4c",
   "metadata": {},
   "outputs": [
    {
     "name": "stdout",
     "output_type": "stream",
     "text": [
      "5.04982680053929e-11\n"
     ]
    }
   ],
   "source": [
    "#Getting true f value\n",
    "fvalue=scipy.stats.f.cdf(F, df1, df2)\n",
    "print(fvalue)"
   ]
  },
  {
   "cell_type": "code",
   "execution_count": 16,
   "id": "513c1f3e",
   "metadata": {},
   "outputs": [
    {
     "name": "stdout",
     "output_type": "stream",
     "text": [
      "Reject null hypotheisis as test statistic do not lie in critical range and fvalue is less than alpha (0.05)\n"
     ]
    }
   ],
   "source": [
    "#Critical values\n",
    "f.ppf([alpha/2,1-alpha/2],df1,df2)\n",
    "print('Reject null hypotheisis as test statistic do not lie in critical range and fvalue is less than alpha (0.05)')"
   ]
  },
  {
   "cell_type": "code",
   "execution_count": 17,
   "id": "ce18cee6",
   "metadata": {},
   "outputs": [
    {
     "name": "stdout",
     "output_type": "stream",
     "text": [
      "7.277610434526923 7.258473522297715e-13\n"
     ]
    }
   ],
   "source": [
    "#Welch t test for unqeual variances\n",
    "from scipy.stats import ttest_ind\n",
    "statistic_twomean, pvalue_twomean=ttest_ind(sample_30_60_km.price, sample_70_90_km.price,equal_var=False)\n",
    "print(statistic_twomean,pvalue_twomean)"
   ]
  },
  {
   "cell_type": "code",
   "execution_count": 18,
   "id": "3b0d01ef",
   "metadata": {},
   "outputs": [
    {
     "name": "stdout",
     "output_type": "stream",
     "text": [
      "923.7016134521454\n"
     ]
    }
   ],
   "source": [
    "#Calculating degree of freedom\n",
    "N1=len(sample_30_60_km)\n",
    "N2=len(sample_70_90_km)\n",
    "s12=sample_30_60_km.price.var()\n",
    "s22=sample_70_90_km.price.var()\n",
    "df=(((s12/N1)+(s22/N2))**2)/((((s12/N1)**2)/(N1-1))+(((s22/N2)**2)/(N2-1)))\n",
    "print(df)"
   ]
  },
  {
   "cell_type": "code",
   "execution_count": 19,
   "id": "5e7f6b39",
   "metadata": {},
   "outputs": [
    {
     "name": "stdout",
     "output_type": "stream",
     "text": [
      "[-1.96253552  1.96253552]\n",
      "Reject null hypotheisis as test statistic do not lie in critical range and pvalue is less than alpha (0.05)\n"
     ]
    }
   ],
   "source": [
    "#Critical values\n",
    "cv_t=t.ppf([alpha/2,1-alpha/2],df)\n",
    "print(cv_t)\n",
    "print('Reject null hypotheisis as test statistic do not lie in critical range and pvalue is less than alpha (0.05)')"
   ]
  },
  {
   "cell_type": "code",
   "execution_count": 20,
   "id": "eaf684da",
   "metadata": {},
   "outputs": [],
   "source": [
    "#Two sample test for proportion (are proportion of petrol cars from 2009-2013 and 2014-2018 different)\n",
    "#Subsetting based on year\n",
    "year_14_18=cars[(cars.yearOfRegistration<=2018) & (cars.yearOfRegistration>=2014)]\n",
    "year_09_13=cars[(cars.yearOfRegistration<=2013) & (cars.yearOfRegistration>=2009)]"
   ]
  },
  {
   "cell_type": "code",
   "execution_count": 21,
   "id": "3e1519ad",
   "metadata": {},
   "outputs": [],
   "source": [
    "#Taking 1000 samples\n",
    "sample_14_18=year_14_18.sample(1000,random_state=3)\n",
    "sample_09_13=year_09_13.sample(1000,random_state=3)"
   ]
  },
  {
   "cell_type": "code",
   "execution_count": 22,
   "id": "8ba0e4b0",
   "metadata": {},
   "outputs": [
    {
     "name": "stdout",
     "output_type": "stream",
     "text": [
      "0.734\n",
      "0.522\n"
     ]
    }
   ],
   "source": [
    "#Calculating the proportion of both\n",
    "from statsmodels.stats.proportion import proportions_ztest\n",
    "count=[(sample_14_18['fuelType']=='petrol').sum(),(sample_09_13['fuelType']=='petrol').sum()]\n",
    "nobs=[len(sample_14_18),len(sample_09_13)]\n",
    "print(count[0]/nobs[0])\n",
    "print(count[1]/nobs[1])"
   ]
  },
  {
   "cell_type": "code",
   "execution_count": 23,
   "id": "959ac494",
   "metadata": {},
   "outputs": [
    {
     "name": "stdout",
     "output_type": "stream",
     "text": [
      "9.807754158877733 1.0426316599022217e-22\n"
     ]
    }
   ],
   "source": [
    "#Calculating statistic and pvalue\n",
    "statistic,pvalue=proportions_ztest(count=count,nobs=nobs,value=0,alternative='two-sided',prop_var=False)\n",
    "print(statistic,pvalue)"
   ]
  },
  {
   "cell_type": "code",
   "execution_count": 24,
   "id": "b95deb6a",
   "metadata": {},
   "outputs": [
    {
     "name": "stdout",
     "output_type": "stream",
     "text": [
      "[-1.95996398  1.95996398]\n",
      "Reject null hypotheisis as test statistic do not lie in critical range and pvalue is less than alpha (0.05)\n"
     ]
    }
   ],
   "source": [
    "#Getting normal critical values\n",
    "cv=norm.ppf([alpha/2,1-alpha/2])\n",
    "print(cv)\n",
    "print('Reject null hypotheisis as test statistic do not lie in critical range and pvalue is less than alpha (0.05)')"
   ]
  },
  {
   "cell_type": "code",
   "execution_count": 25,
   "id": "2edf7394",
   "metadata": {},
   "outputs": [],
   "source": [
    "#Chi-square test of independence (is vehicleType dependent on fuelType)\n",
    "#Setting crosstab between fueltype and vehicletype\n",
    "cross_table=pd.crosstab((cars['fuelType']),cars['vehicleType'])"
   ]
  },
  {
   "cell_type": "code",
   "execution_count": 26,
   "id": "f5733b8e",
   "metadata": {},
   "outputs": [
    {
     "name": "stdout",
     "output_type": "stream",
     "text": [
      "Chi2ContingencyResult(statistic=8223.500448347113, pvalue=0.0, dof=42, expected_freq=array([[5.96259820e+00, 4.62331703e+00, 3.74472227e+00, 2.42781730e+01,\n",
      "        5.39661205e-01, 1.53951521e+01, 1.34174913e+01, 3.03888490e+00],\n",
      "       [1.09417876e+03, 8.48411234e+02, 6.87182907e+02, 4.45521572e+03,\n",
      "        9.90316316e+01, 2.82511883e+03, 2.46220413e+03, 5.57656779e+02],\n",
      "       [8.39802563e-01, 6.51171413e-01, 5.27425671e-01, 3.41946099e+00,\n",
      "        7.60086205e-02, 2.16833129e+00, 1.88978750e+00, 4.28011957e-01],\n",
      "       [3.02328923e+00, 2.34421709e+00, 1.89873242e+00, 1.23100596e+01,\n",
      "        2.73631034e-01, 7.80599263e+00, 6.80323500e+00, 1.54084305e+00],\n",
      "       [5.85342386e+01, 4.53866475e+01, 3.67615693e+01, 2.38336431e+02,\n",
      "        5.29780085e+00, 1.51132691e+02, 1.31718189e+02, 2.98324334e+01],\n",
      "       [5.03881538e-01, 3.90702848e-01, 3.16455403e-01, 2.05167659e+00,\n",
      "        4.56051723e-02, 1.30099877e+00, 1.13387250e+00, 2.56807174e-01],\n",
      "       [2.46095743e+03, 1.90819271e+03, 1.54556819e+03, 1.00203885e+04,\n",
      "        2.22735661e+02, 6.35407800e+03, 5.53783329e+03, 1.25424624e+03]]))\n"
     ]
    }
   ],
   "source": [
    "#Applying function chi2_contigency\n",
    "cont=scipy.stats.chi2_contingency(cross_table)\n",
    "print(cont)"
   ]
  },
  {
   "cell_type": "code",
   "execution_count": 27,
   "id": "a742145b",
   "metadata": {},
   "outputs": [
    {
     "name": "stdout",
     "output_type": "stream",
     "text": [
      "42\n"
     ]
    }
   ],
   "source": [
    "#Calculating degrees of freedom\n",
    "df=(cross_table.shape[0]-1)*(cross_table.shape[1]-1)\n",
    "print(df)"
   ]
  },
  {
   "cell_type": "code",
   "execution_count": 28,
   "id": "2b026621",
   "metadata": {},
   "outputs": [
    {
     "name": "stdout",
     "output_type": "stream",
     "text": [
      "Reject null hypotheisis as chi2 statistic do not lie in critical range and pvalue is less than alpha (0.05) conclude vehicleType is not dependent on fuelType\n"
     ]
    }
   ],
   "source": [
    "#Getting critical values\n",
    "from scipy.stats import chi2\n",
    "chi2.ppf(q=[alpha/2,1-alpha/2],df=42)\n",
    "print('Reject null hypotheisis as chi2 statistic do not lie in critical range and pvalue is less than alpha (0.05) conclude vehicleType is not dependent on fuelType')"
   ]
  }
 ],
 "metadata": {
  "kernelspec": {
   "display_name": "base",
   "language": "python",
   "name": "python3"
  },
  "language_info": {
   "codemirror_mode": {
    "name": "ipython",
    "version": 3
   },
   "file_extension": ".py",
   "mimetype": "text/x-python",
   "name": "python",
   "nbconvert_exporter": "python",
   "pygments_lexer": "ipython3",
   "version": "3.12.7"
  }
 },
 "nbformat": 4,
 "nbformat_minor": 5
}
