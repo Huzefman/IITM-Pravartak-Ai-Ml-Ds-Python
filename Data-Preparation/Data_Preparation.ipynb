{
 "cells": [
  {
   "cell_type": "code",
   "execution_count": 1,
   "id": "7d892bf6",
   "metadata": {},
   "outputs": [],
   "source": [
    "import os\n",
    "import pandas as pd\n",
    "import numpy as np\n",
    "import seaborn as sns\n",
    "import matplotlib.pyplot as plt"
   ]
  },
  {
   "cell_type": "code",
   "execution_count": null,
   "id": "8067cc5d",
   "metadata": {},
   "outputs": [],
   "source": [
    "#Changing Working Directory\n",
    "os.chdir('/Users/huzefa/IITM-Pravartak-Ai-Ml-Ds-Python/Data-Preparation')"
   ]
  },
  {
   "cell_type": "code",
   "execution_count": null,
   "id": "b47830ed",
   "metadata": {},
   "outputs": [],
   "source": [
    "#Importing all the necessasry datasets\n",
    "acDetails=pd.read_table('../Datasets/acDetails.txt',index_col=0,sep='\\t')\n",
    "demoDetails=pd.read_csv('../Datasets/demoDetails.csv',index_col=0)\n",
    "serviceDetails=pd.read_csv('../Datasets/serviceDetails.csv',index_col=0)"
   ]
  },
  {
   "cell_type": "code",
   "execution_count": 4,
   "id": "b10578e5",
   "metadata": {},
   "outputs": [
    {
     "data": {
      "text/plain": [
       "True"
      ]
     },
     "execution_count": 4,
     "metadata": {},
     "output_type": "execute_result"
    }
   ],
   "source": [
    "#Checking if determined common attribute is actually common and consistent across all the dataframes\n",
    "acDetails.customerID.equals(demoDetails.customerID)\n",
    "demoDetails.customerID.equals(serviceDetails.customerID)"
   ]
  },
  {
   "cell_type": "code",
   "execution_count": 5,
   "id": "07b2d6c5",
   "metadata": {},
   "outputs": [
    {
     "name": "stdout",
     "output_type": "stream",
     "text": [
      "250\n",
      "250\n",
      "250\n"
     ]
    }
   ],
   "source": [
    "#Checking for any duplicate record in any file (Common Unique attribute 'customer_ID') can be used to check\n",
    "#Checking count of duplicate records if any present\n",
    "print(len(np.unique(acDetails['customerID'])))\n",
    "print(len(np.unique(demoDetails['customerID'])))\n",
    "print(len(np.unique(serviceDetails['customerID'])))"
   ]
  },
  {
   "cell_type": "code",
   "execution_count": 6,
   "id": "b1c2c952",
   "metadata": {},
   "outputs": [
    {
     "data": {
      "text/html": [
       "<div>\n",
       "<style scoped>\n",
       "    .dataframe tbody tr th:only-of-type {\n",
       "        vertical-align: middle;\n",
       "    }\n",
       "\n",
       "    .dataframe tbody tr th {\n",
       "        vertical-align: top;\n",
       "    }\n",
       "\n",
       "    .dataframe thead th {\n",
       "        text-align: right;\n",
       "    }\n",
       "</style>\n",
       "<table border=\"1\" class=\"dataframe\">\n",
       "  <thead>\n",
       "    <tr style=\"text-align: right;\">\n",
       "      <th></th>\n",
       "      <th>customerID</th>\n",
       "      <th>PhoneService</th>\n",
       "      <th>MultipleLines</th>\n",
       "      <th>InternetService</th>\n",
       "      <th>OnlineSecurity</th>\n",
       "      <th>OnlineBackup</th>\n",
       "      <th>DeviceProtection</th>\n",
       "      <th>TechSupport</th>\n",
       "      <th>StreamingTV</th>\n",
       "      <th>StreamingMovies</th>\n",
       "      <th>Churn</th>\n",
       "    </tr>\n",
       "  </thead>\n",
       "  <tbody>\n",
       "    <tr>\n",
       "      <th>46</th>\n",
       "      <td>9067-SQTNS</td>\n",
       "      <td>Yes</td>\n",
       "      <td>No</td>\n",
       "      <td>No</td>\n",
       "      <td>Yes</td>\n",
       "      <td>Yes</td>\n",
       "      <td>No internet service</td>\n",
       "      <td>No internet service</td>\n",
       "      <td>Yes</td>\n",
       "      <td>No internet service</td>\n",
       "      <td>No</td>\n",
       "    </tr>\n",
       "    <tr>\n",
       "      <th>251</th>\n",
       "      <td>9067-SQTNS</td>\n",
       "      <td>Yes</td>\n",
       "      <td>No</td>\n",
       "      <td>No</td>\n",
       "      <td>Yes</td>\n",
       "      <td>Yes</td>\n",
       "      <td>No internet service</td>\n",
       "      <td>No internet service</td>\n",
       "      <td>Yes</td>\n",
       "      <td>No internet service</td>\n",
       "      <td>No</td>\n",
       "    </tr>\n",
       "  </tbody>\n",
       "</table>\n",
       "</div>"
      ],
      "text/plain": [
       "     customerID PhoneService MultipleLines InternetService OnlineSecurity  \\\n",
       "46   9067-SQTNS          Yes            No              No            Yes   \n",
       "251  9067-SQTNS          Yes            No              No            Yes   \n",
       "\n",
       "    OnlineBackup     DeviceProtection          TechSupport StreamingTV  \\\n",
       "46           Yes  No internet service  No internet service         Yes   \n",
       "251          Yes  No internet service  No internet service         Yes   \n",
       "\n",
       "         StreamingMovies Churn  \n",
       "46   No internet service    No  \n",
       "251  No internet service    No  "
      ]
     },
     "execution_count": 6,
     "metadata": {},
     "output_type": "execute_result"
    }
   ],
   "source": [
    "#Determining the duplicate record\n",
    "acDetails[acDetails.duplicated(['customerID'],keep=False)]\n",
    "demoDetails[demoDetails.duplicated(['customerID'],keep=False)]\n",
    "serviceDetails[serviceDetails.duplicated(['customerID'],keep=False)]"
   ]
  },
  {
   "cell_type": "code",
   "execution_count": 7,
   "id": "46966a25",
   "metadata": {},
   "outputs": [],
   "source": [
    "#Removing duplicate record\n",
    "acDetails=acDetails.drop_duplicates()\n",
    "demoDetails=demoDetails.drop_duplicates()\n",
    "serviceDetails=serviceDetails.drop_duplicates()"
   ]
  },
  {
   "cell_type": "code",
   "execution_count": 8,
   "id": "f7c9d77b",
   "metadata": {},
   "outputs": [],
   "source": [
    "#Now joining the dataframes into one dataframe\n",
    "churn=pd.merge(demoDetails, acDetails, on='customerID')\n",
    "churn=pd.merge(churn, serviceDetails, on='customerID')\n",
    "churn1=churn.copy()"
   ]
  },
  {
   "cell_type": "code",
   "execution_count": 9,
   "id": "3b3d5c42",
   "metadata": {},
   "outputs": [
    {
     "name": "stdout",
     "output_type": "stream",
     "text": [
      "<class 'pandas.core.frame.DataFrame'>\n",
      "RangeIndex: 250 entries, 0 to 249\n",
      "Data columns (total 21 columns):\n",
      " #   Column            Non-Null Count  Dtype  \n",
      "---  ------            --------------  -----  \n",
      " 0   customerID        250 non-null    object \n",
      " 1   gender            250 non-null    object \n",
      " 2   SeniorCitizen     245 non-null    float64\n",
      " 3   Partner           250 non-null    object \n",
      " 4   Dependents        250 non-null    object \n",
      " 5   tenure            250 non-null    object \n",
      " 6   Contract          250 non-null    object \n",
      " 7   PaperlessBilling  250 non-null    object \n",
      " 8   PaymentMethod     250 non-null    object \n",
      " 9   MonthlyCharges    240 non-null    float64\n",
      " 10  TotalCharges      235 non-null    float64\n",
      " 11  PhoneService      250 non-null    object \n",
      " 12  MultipleLines     250 non-null    object \n",
      " 13  InternetService   250 non-null    object \n",
      " 14  OnlineSecurity    250 non-null    object \n",
      " 15  OnlineBackup      250 non-null    object \n",
      " 16  DeviceProtection  250 non-null    object \n",
      " 17  TechSupport       250 non-null    object \n",
      " 18  StreamingTV       250 non-null    object \n",
      " 19  StreamingMovies   250 non-null    object \n",
      " 20  Churn             250 non-null    object \n",
      "dtypes: float64(3), object(18)\n",
      "memory usage: 41.1+ KB\n"
     ]
    },
    {
     "data": {
      "text/plain": [
       "customerID           0\n",
       "gender               0\n",
       "SeniorCitizen        5\n",
       "Partner              0\n",
       "Dependents           0\n",
       "tenure               0\n",
       "Contract             0\n",
       "PaperlessBilling     0\n",
       "PaymentMethod        0\n",
       "MonthlyCharges      10\n",
       "TotalCharges        15\n",
       "PhoneService         0\n",
       "MultipleLines        0\n",
       "InternetService      0\n",
       "OnlineSecurity       0\n",
       "OnlineBackup         0\n",
       "DeviceProtection     0\n",
       "TechSupport          0\n",
       "StreamingTV          0\n",
       "StreamingMovies      0\n",
       "Churn                0\n",
       "dtype: int64"
      ]
     },
     "execution_count": 9,
     "metadata": {},
     "output_type": "execute_result"
    }
   ],
   "source": [
    "#Getting basic information of churn1 about the count of null values and datatypes of different variables\n",
    "churn1.info()\n",
    "churn1.isnull().sum()"
   ]
  },
  {
   "cell_type": "code",
   "execution_count": 10,
   "id": "1476e8c4",
   "metadata": {},
   "outputs": [
    {
     "name": "stdout",
     "output_type": "stream",
     "text": [
      "gender            Female                       124.0\n",
      "                  Male                         126.0\n",
      "Partner           No                           126.0\n",
      "                  Yes                          124.0\n",
      "Dependents        1@#                            6.0\n",
      "                  No                           171.0\n",
      "                  Yes                           73.0\n",
      "Contract          Month-to-month               133.0\n",
      "                  One year                      55.0\n",
      "                  Two year                      62.0\n",
      "PaperlessBilling  No                            98.0\n",
      "                  Yes                          152.0\n",
      "PaymentMethod     Bank transfer (automatic)     58.0\n",
      "                  Credit card (automatic)       57.0\n",
      "                  Electronic check              80.0\n",
      "                  Mailed check                  55.0\n",
      "PhoneService      No                            27.0\n",
      "                  Yes                          223.0\n",
      "MultipleLines     No                           113.0\n",
      "                  No phone service              27.0\n",
      "                  Yes                          110.0\n",
      "InternetService   DSL                           86.0\n",
      "                  Fiber optic                  113.0\n",
      "                  No                            51.0\n",
      "OnlineSecurity    No                           132.0\n",
      "                  No internet service           33.0\n",
      "                  Yes                           85.0\n",
      "OnlineBackup      No                           101.0\n",
      "                  No internet service           33.0\n",
      "                  Yes                          116.0\n",
      "DeviceProtection  No                           107.0\n",
      "                  No internet service           51.0\n",
      "                  Yes                           92.0\n",
      "TechSupport       No                           130.0\n",
      "                  No internet service           51.0\n",
      "                  Yes                           69.0\n",
      "StreamingTV       No                           100.0\n",
      "                  No internet service           43.0\n",
      "                  Yes                          107.0\n",
      "StreamingMovies   No                           104.0\n",
      "                  No internet service           61.0\n",
      "                  Yes                           85.0\n",
      "Churn             No                           172.0\n",
      "                  Yes                           78.0\n",
      "dtype: float64\n"
     ]
    }
   ],
   "source": [
    "#Using a quick approach to quickly get the above information about objects using lambda function\n",
    "categorical_data=churn1.select_dtypes(include=['object']).copy()\n",
    "categorical_data=categorical_data.drop(['customerID','tenure'],axis=1)#dropping these because they overpopulate the information\n",
    "frequencies=categorical_data.apply(lambda x: x.value_counts()).T.stack()\n",
    "print(frequencies)"
   ]
  },
  {
   "cell_type": "code",
   "execution_count": 12,
   "id": "d29c5a4b",
   "metadata": {},
   "outputs": [
    {
     "name": "stdout",
     "output_type": "stream",
     "text": [
      "[2, 3, 4, 6]\n"
     ]
    },
    {
     "name": "stderr",
     "output_type": "stream",
     "text": [
      "/var/folders/4n/qtwztn957tq_p6qm84yxsr740000gn/T/ipykernel_4839/115345956.py:25: FutureWarning: ChainedAssignmentError: behaviour will change in pandas 3.0!\n",
      "You are setting values through chained assignment. Currently this works in certain cases, but when using Copy-on-Write (which will become the default behaviour in pandas 3.0) this will never work to update the original DataFrame or Series, because the intermediate object on which we are setting values will behave as a copy.\n",
      "A typical example is when you are setting values in a column of a DataFrame, like:\n",
      "\n",
      "df[\"col\"][row_indexer] = value\n",
      "\n",
      "Use `df.loc[row_indexer, \"col\"] = values` instead, to perform the assignment in a single step and ensure this keeps updating the original `df`.\n",
      "\n",
      "See the caveats in the documentation: https://pandas.pydata.org/pandas-docs/stable/user_guide/indexing.html#returning-a-view-versus-a-copy\n",
      "\n",
      "  churn1.customerID[i]=false_str.replace('/','-')\n",
      "/var/folders/4n/qtwztn957tq_p6qm84yxsr740000gn/T/ipykernel_4839/115345956.py:25: SettingWithCopyWarning: \n",
      "A value is trying to be set on a copy of a slice from a DataFrame\n",
      "\n",
      "See the caveats in the documentation: https://pandas.pydata.org/pandas-docs/stable/user_guide/indexing.html#returning-a-view-versus-a-copy\n",
      "  churn1.customerID[i]=false_str.replace('/','-')\n",
      "/var/folders/4n/qtwztn957tq_p6qm84yxsr740000gn/T/ipykernel_4839/115345956.py:22: FutureWarning: ChainedAssignmentError: behaviour will change in pandas 3.0!\n",
      "You are setting values through chained assignment. Currently this works in certain cases, but when using Copy-on-Write (which will become the default behaviour in pandas 3.0) this will never work to update the original DataFrame or Series, because the intermediate object on which we are setting values will behave as a copy.\n",
      "A typical example is when you are setting values in a column of a DataFrame, like:\n",
      "\n",
      "df[\"col\"][row_indexer] = value\n",
      "\n",
      "Use `df.loc[row_indexer, \"col\"] = values` instead, to perform the assignment in a single step and ensure this keeps updating the original `df`.\n",
      "\n",
      "See the caveats in the documentation: https://pandas.pydata.org/pandas-docs/stable/user_guide/indexing.html#returning-a-view-versus-a-copy\n",
      "\n",
      "  churn1.customerID[i]=str_splits[1]+'-'+str_splits[0]\n",
      "/var/folders/4n/qtwztn957tq_p6qm84yxsr740000gn/T/ipykernel_4839/115345956.py:22: SettingWithCopyWarning: \n",
      "A value is trying to be set on a copy of a slice from a DataFrame\n",
      "\n",
      "See the caveats in the documentation: https://pandas.pydata.org/pandas-docs/stable/user_guide/indexing.html#returning-a-view-versus-a-copy\n",
      "  churn1.customerID[i]=str_splits[1]+'-'+str_splits[0]\n",
      "/var/folders/4n/qtwztn957tq_p6qm84yxsr740000gn/T/ipykernel_4839/115345956.py:25: FutureWarning: ChainedAssignmentError: behaviour will change in pandas 3.0!\n",
      "You are setting values through chained assignment. Currently this works in certain cases, but when using Copy-on-Write (which will become the default behaviour in pandas 3.0) this will never work to update the original DataFrame or Series, because the intermediate object on which we are setting values will behave as a copy.\n",
      "A typical example is when you are setting values in a column of a DataFrame, like:\n",
      "\n",
      "df[\"col\"][row_indexer] = value\n",
      "\n",
      "Use `df.loc[row_indexer, \"col\"] = values` instead, to perform the assignment in a single step and ensure this keeps updating the original `df`.\n",
      "\n",
      "See the caveats in the documentation: https://pandas.pydata.org/pandas-docs/stable/user_guide/indexing.html#returning-a-view-versus-a-copy\n",
      "\n",
      "  churn1.customerID[i]=false_str.replace('/','-')\n",
      "/var/folders/4n/qtwztn957tq_p6qm84yxsr740000gn/T/ipykernel_4839/115345956.py:25: SettingWithCopyWarning: \n",
      "A value is trying to be set on a copy of a slice from a DataFrame\n",
      "\n",
      "See the caveats in the documentation: https://pandas.pydata.org/pandas-docs/stable/user_guide/indexing.html#returning-a-view-versus-a-copy\n",
      "  churn1.customerID[i]=false_str.replace('/','-')\n",
      "/var/folders/4n/qtwztn957tq_p6qm84yxsr740000gn/T/ipykernel_4839/115345956.py:25: FutureWarning: ChainedAssignmentError: behaviour will change in pandas 3.0!\n",
      "You are setting values through chained assignment. Currently this works in certain cases, but when using Copy-on-Write (which will become the default behaviour in pandas 3.0) this will never work to update the original DataFrame or Series, because the intermediate object on which we are setting values will behave as a copy.\n",
      "A typical example is when you are setting values in a column of a DataFrame, like:\n",
      "\n",
      "df[\"col\"][row_indexer] = value\n",
      "\n",
      "Use `df.loc[row_indexer, \"col\"] = values` instead, to perform the assignment in a single step and ensure this keeps updating the original `df`.\n",
      "\n",
      "See the caveats in the documentation: https://pandas.pydata.org/pandas-docs/stable/user_guide/indexing.html#returning-a-view-versus-a-copy\n",
      "\n",
      "  churn1.customerID[i]=false_str.replace('/','-')\n",
      "/var/folders/4n/qtwztn957tq_p6qm84yxsr740000gn/T/ipykernel_4839/115345956.py:25: SettingWithCopyWarning: \n",
      "A value is trying to be set on a copy of a slice from a DataFrame\n",
      "\n",
      "See the caveats in the documentation: https://pandas.pydata.org/pandas-docs/stable/user_guide/indexing.html#returning-a-view-versus-a-copy\n",
      "  churn1.customerID[i]=false_str.replace('/','-')\n"
     ]
    }
   ],
   "source": [
    "#Cleaning and making 'customerID' consistent\n",
    "#Length of 'customerID' must be 10 and pattern as '[nnnn]-[ccccc]' first 4 numbers + - + last 5 characters\n",
    "len_ind=[i for i,value in enumerate(churn1.customerID) if len(value)!=10] #All have length = 10\n",
    "\n",
    "import re\n",
    "\n",
    "pattern='^[0-9]{4,4}-[A-Z]{5,5}'\n",
    "type(pattern)\n",
    "p=re.compile(pattern)\n",
    "type(p)\n",
    "\n",
    "q=[i for i,value in enumerate(churn1.customerID) if p.match(str(value))==None]\n",
    "print(q) #At indices 2,3,4,6 pattern doesn't match\n",
    "#Two types of anomalies present 1.) '/' insted of '-' 2.) first 5 characters + - + last 4 digits\n",
    "fp1=re.compile('^[A-Z]{5,5}-[0-9]{4,4}')\n",
    "fp2=re.compile('^[0-9]{4,4}/[A-Z]{5,5}')\n",
    "\n",
    "for i in q:\n",
    "    false_str=str(churn1.customerID[i])\n",
    "    if(fp1.match(false_str)):\n",
    "        str_splits=false_str.split('-')\n",
    "        churn1.customerID[i]=str_splits[1]+'-'+str_splits[0]\n",
    "    elif(fp2.match(false_str)):\n",
    "        str_splits=false_str.split('/')\n",
    "        churn1.customerID[i]=false_str.replace('/','-')"
   ]
  },
  {
   "cell_type": "code",
   "execution_count": 13,
   "id": "84f090b1",
   "metadata": {},
   "outputs": [
    {
     "data": {
      "text/plain": [
       "array(['0115-TFERT', '0187-WZNAB', '0193-ESZXP', '0195-IESCP',\n",
       "       '0203-HHYIJ', '0307-BCOPK', '0374-IOEGQ', '0402-CQAJN',\n",
       "       '0431-APWVY', '0440-MOGPM', '0495-ZBNGW', '0529-ONKER',\n",
       "       '0567-GGCAC', '0587-DMGBH', '0601-WZHJF', '0607-DAAHE',\n",
       "       '0883-EIBTI', '0913-XWSCN', '0958-YHXGP', '1090-PYKCI',\n",
       "       '1094-BKOSX', '1096-ADRUX', '1114-CENIM', '1116-FRYVH',\n",
       "       '1171-TYKUR', '1230-QAJDW', '1282-IHQAC', '1306-RPWXZ',\n",
       "       '1347-KTTTA', '1363-TXLSL', '1422-DGUBX', '1485-YDHMM',\n",
       "       '1561-BWHIN', '1567-DSCIC', '1591-MQJTP', '1750-CSKKM',\n",
       "       '1754-GKYPY', '1764-VUUMT', '1785-BPHTP', '1814-DKOLC',\n",
       "       '1877-HKBQX', '1918-ZBFQJ', '1945-XISKS', '1972-XMUWV',\n",
       "       '1976-AZZPJ', '2000-MPKCA', '2027-WKXMW', '2038-OEQZH',\n",
       "       '2040-XBAVJ', '2189-UXTKY', '2190-PHBHR', '2272-JKMSI',\n",
       "       '2307-FYNNL', '2311-QYMUQ', '2316-ESMLS', '2333-KWEWW',\n",
       "       '2359-QWQUL', '2361-FJWNO', '2452-MRMZF', '2458-EOMRE',\n",
       "       '2481-SBOYW', '2538-OIMXF', '2589-AYCRP', '2592-YKDIF',\n",
       "       '2612-PHGOX', '2640-PMGFL', '2657-VPXTA', '2674-MIAHT',\n",
       "       '2675-DHUTR', '2676-SSLTO', '2710-WYVXG', '2717-HVIZY',\n",
       "       '2810-FTLEM', '2845-KDHVX', '2851-MMUTZ', '2969-WGHQO',\n",
       "       '3030-YZADT', '3090-LETTY', '3128-YOVTD', '3137-LUPIX',\n",
       "       '3164-AALRN', '3258-ZKPAI', '3261-CQXOL', '3307-TLCUD',\n",
       "       '3325-FUYCG', '3399-BMLVW', '3428-XZMAZ', '3441-CGZJH',\n",
       "       '3452-FLHYD', '3585-YNADK', '3606-TWKGI', '3612-YVGSJ',\n",
       "       '3620-EHIMZ', '3621-CEOVK', '3635-JBPSG', '3649-JPUGY',\n",
       "       '3671-SHRSP', '3694-GLTJM', '3701-SFMUH', '3703-KBKZP',\n",
       "       '3733-UOCWF', '3797-VTIDR', '3842-QTGDL', '3845-FXCYS',\n",
       "       '3886-CERTZ', '3889-VWBID', '3977-QCRSL', '3988-RQIXO',\n",
       "       '4018-PPNDW', '4070-OKWVH', '4081-DYXAV', '4088-YLDSU',\n",
       "       '4098-NAUKP', '4106-HADHQ', '4130-MZLCC', '4132-KALRO',\n",
       "       '4134-BSXLX', '4236-UJPWO', '4291-HYEBC', '4291-TPNFG',\n",
       "       '4432-ADRLB', '4480-QQRHC', '4625-EWPTF', '4682-BLBUC',\n",
       "       '4686-GEFRM', '4737-HOBAX', '4759-TRPLW', '4818-DRBQT',\n",
       "       '4822-NGOCH', '4847-TAJYI', '4910-AQFFX', '4971-PUYQO',\n",
       "       '5022-JNQEQ', '5054-IEXZT', '5055-MGMGF', '5130-YPIRV',\n",
       "       '5192-EBGOV', '5201-CBWYG', '5275-SQEIZ', '5304-EFJLP',\n",
       "       '5334-AFQJB', '5419-KLXBN', '5708-EVONK', '5712-AHQNN',\n",
       "       '5820-PTRYM', '5854-KSRBJ', '5857-TYBCJ', '5906-DVAPM',\n",
       "       '5919-TMRGD', '5996-DAOQL', '6077-BDPXA', '6142-VSJQO',\n",
       "       '6168-YBYNP', '6177-PEVRA', '6202-DYYFX', '6207-WIOLX',\n",
       "       '6211-WWLTF', '6229-LSCKB', '6351-SCJKT', '6362-QHAFM',\n",
       "       '6374-AFWOX', '6390-DSAZX', '6447-GORXK', '6463-HHXJR',\n",
       "       '6504-VBLFL', '6513-EECDB', '6583-QGCSI', '6598-RFFVI',\n",
       "       '6651-AZVTJ', '6652-YFFJO', '6762-NSODU', '6874-SGLHU',\n",
       "       '6876-ADESB', '6917-FIJHC', '6922-NCEDI', '6959-GQEGV',\n",
       "       '7009-LGECI', '7017-VFULY', '7064-JHXCE', '7080-TNUWP',\n",
       "       '7181-BQYBV', '7181-OQCUT', '7235-NXZCP', '7359-SSBJK',\n",
       "       '7408-OFWXJ', '7488-MXJIV', '7547-EKNFS', '7572-KPVKK',\n",
       "       '7596-ZYWBB', '7605-BDWDC', '7627-JKIAZ', '7673-BQGKU',\n",
       "       '7690-KPNCU', '7730-CLDSV', '7799-LGRDP', '7856-GANIL',\n",
       "       '7929-SKFGK', '7932-WPTDS', '7978-DKUQH', '8065-YKXKD',\n",
       "       '8087-LGYHQ', '8111-RKSPX', '8148-BPLZQ', '8231-BSWXX',\n",
       "       '8260-NGFNY', '8347-GDTMP', '8404-VIOMB', '8413-VONUO',\n",
       "       '8430-TWCBX', '8464-EETCQ', '8495-PRWFH', '8543-MSDMF',\n",
       "       '8550-XSXUQ', '8714-EUHJO', '8727-XDPUD', '8735-DCXNF',\n",
       "       '8780-IXSTS', '8853-TZDGH', '8854-CCVSQ', '8869-LIHMK',\n",
       "       '8882-TLVRW', '8898-KASCD', '8931-GJJIQ', '8932-CZHRQ',\n",
       "       '8946-BFWSG', '9025-ZRPVR', '9067-SQTNS', '9108-EQPNQ',\n",
       "       '9122-UMROB', '9184-GALIL', '9210-IAHGH', '9318-NKNFC',\n",
       "       '9374-YOLBJ', '9391-DXGGG', '9392-XBGTD', '9396-ZSFLL',\n",
       "       '9489-JMTTN', '9565-DJPIB', '9588-YRFHY', '9734-YWGEX',\n",
       "       '9746-UGFAC', '9762-YAQAA', '9812-GHVRI', '9823-EALYC',\n",
       "       '9824-QCJPK', '9830-ECLEN', '9885-AIBVB', '9927-DSWDF',\n",
       "       '9947-OTFQU', '9961-JBNMK'], dtype=object)"
      ]
     },
     "execution_count": 13,
     "metadata": {},
     "output_type": "execute_result"
    }
   ],
   "source": [
    "#Rechecking if customerID is now cleaned or consistent or not\n",
    "np.unique(churn1['customerID'])"
   ]
  },
  {
   "cell_type": "code",
   "execution_count": 14,
   "id": "5a011c79",
   "metadata": {},
   "outputs": [
    {
     "name": "stderr",
     "output_type": "stream",
     "text": [
      "/var/folders/4n/qtwztn957tq_p6qm84yxsr740000gn/T/ipykernel_4839/809960892.py:2: FutureWarning: A value is trying to be set on a copy of a DataFrame or Series through chained assignment using an inplace method.\n",
      "The behavior will change in pandas 3.0. This inplace method will never work because the intermediate object on which we are setting values always behaves as a copy.\n",
      "\n",
      "For example, when doing 'df[col].method(value, inplace=True)', try using 'df.method({col: value}, inplace=True)' or df[col] = df[col].method(value) instead, to perform the operation inplace on the original object.\n",
      "\n",
      "\n",
      "  churn1['SeniorCitizen'].fillna(churn1['SeniorCitizen'].mode()[0],inplace=True)\n"
     ]
    }
   ],
   "source": [
    "#Cleaning 'SeniorCitizen' resolving nan values (using mode)\n",
    "churn1['SeniorCitizen'].fillna(churn1['SeniorCitizen'].mode()[0],inplace=True)\n",
    "churn1.isnull().sum() #All values filled\n",
    "churn1['SeniorCitizen']=churn1.SeniorCitizen.astype(int)"
   ]
  },
  {
   "cell_type": "code",
   "execution_count": 15,
   "id": "2dced354",
   "metadata": {},
   "outputs": [],
   "source": [
    "#Cleaning 'Dependents' removing abnormal values\n",
    "pd.crosstab(index=churn1['Dependents'], columns='count')\n",
    "churn1['Dependents']=churn1['Dependents'].replace('1@#','No')"
   ]
  },
  {
   "cell_type": "code",
   "execution_count": 16,
   "id": "c9973138",
   "metadata": {},
   "outputs": [
    {
     "data": {
      "text/plain": [
       "array([   1,    2,    3,    4,    5,    6,    7,    8,    9,   10,   11,\n",
       "         12,   13,   14,   15,   16,   17,   18,   19,   21,   22,   25,\n",
       "         27,   28,   29,   30,   31,   32,   34,   36,   37,   38,   39,\n",
       "         40,   41,   42,   43,   44,   45,   46,   47,   48,   49,   50,\n",
       "         51,   52,   53,   54,   55,   56,   57,   58,   59,   61,   62,\n",
       "         63,   64,   65,   66,   67,   68,   69,   70,   71,   72,  964,\n",
       "        969,  971,  992,  994, 1008])"
      ]
     },
     "execution_count": 16,
     "metadata": {},
     "output_type": "execute_result"
    }
   ],
   "source": [
    "#Cleaning 'tenure' and making it consistent int datatype\n",
    "churn1['tenure']=churn1.tenure.replace(\"Four\",4)\n",
    "churn1['tenure']=churn1.tenure.replace(\"One\",1)\n",
    "churn1['tenure']=churn1.tenure.astype(int)\n",
    "np.unique(churn1['tenure'])"
   ]
  },
  {
   "cell_type": "code",
   "execution_count": 17,
   "id": "a7bb5e57",
   "metadata": {},
   "outputs": [
    {
     "data": {
      "image/png": "[encoded data removed]",
      "text/plain": [
       "<Figure size 640x480 with 1 Axes>"
      ]
     },
     "metadata": {},
     "output_type": "display_data"
    }
   ],
   "source": [
    "#Cleaning 'MonthlyCharges' filling nan values\n",
    "churn1.describe()\n",
    "sns.boxplot(x=churn1['MonthlyCharges'],y=churn1['Churn'])\n",
    "plt.show() #The plot show that the mean of customers who have churned and those who haven't anre not same, hence need to calculate seperate means for both categories\n",
    "churn1.groupby('Churn')['MonthlyCharges'].mean()\n",
    "churn1['MonthlyCharges']=churn1.groupby('Churn')['MonthlyCharges'].transform(lambda x:x.fillna(x.mean()))"
   ]
  },
  {
   "cell_type": "code",
   "execution_count": 18,
   "id": "f6b476a6",
   "metadata": {},
   "outputs": [
    {
     "data": {
      "image/png": "[encoded data removed]",
      "text/plain": [
       "<Figure size 640x480 with 1 Axes>"
      ]
     },
     "metadata": {},
     "output_type": "display_data"
    },
    {
     "name": "stdout",
     "output_type": "stream",
     "text": [
      "<class 'pandas.core.frame.DataFrame'>\n",
      "RangeIndex: 250 entries, 0 to 249\n",
      "Data columns (total 21 columns):\n",
      " #   Column            Non-Null Count  Dtype  \n",
      "---  ------            --------------  -----  \n",
      " 0   customerID        250 non-null    object \n",
      " 1   gender            250 non-null    object \n",
      " 2   SeniorCitizen     250 non-null    int64  \n",
      " 3   Partner           250 non-null    object \n",
      " 4   Dependents        250 non-null    object \n",
      " 5   tenure            250 non-null    int64  \n",
      " 6   Contract          250 non-null    object \n",
      " 7   PaperlessBilling  250 non-null    object \n",
      " 8   PaymentMethod     250 non-null    object \n",
      " 9   MonthlyCharges    250 non-null    float64\n",
      " 10  TotalCharges      250 non-null    float64\n",
      " 11  PhoneService      250 non-null    object \n",
      " 12  MultipleLines     250 non-null    object \n",
      " 13  InternetService   250 non-null    object \n",
      " 14  OnlineSecurity    250 non-null    object \n",
      " 15  OnlineBackup      250 non-null    object \n",
      " 16  DeviceProtection  250 non-null    object \n",
      " 17  TechSupport       250 non-null    object \n",
      " 18  StreamingTV       250 non-null    object \n",
      " 19  StreamingMovies   250 non-null    object \n",
      " 20  Churn             250 non-null    object \n",
      "dtypes: float64(2), int64(2), object(17)\n",
      "memory usage: 41.1+ KB\n"
     ]
    }
   ],
   "source": [
    "#Similarly cleaning 'TotalCharges' and doing same as above 'MonthlyCharges'\n",
    "sns.boxenplot(x=churn1['TotalCharges'],y=churn1['Churn'])\n",
    "plt.show()\n",
    "churn1.groupby('Churn')['TotalCharges'].mean()\n",
    "churn1['TotalCharges']=churn1.groupby('Churn')['TotalCharges'].transform(lambda x:x.fillna(x.mean()))\n",
    "churn1.info()"
   ]
  },
  {
   "cell_type": "code",
   "execution_count": 19,
   "id": "e39cc13e",
   "metadata": {},
   "outputs": [
    {
     "data": {
      "image/png": "[encoded data removed]",
      "text/plain": [
       "<Figure size 640x480 with 1 Axes>"
      ]
     },
     "metadata": {},
     "output_type": "display_data"
    },
    {
     "data": {
      "image/png": "[encoded data removed]",
      "text/plain": [
       "<Figure size 640x480 with 1 Axes>"
      ]
     },
     "metadata": {},
     "output_type": "display_data"
    }
   ],
   "source": [
    "#I also need to deal with outliers if present in any data\n",
    "sns.boxenplot(x=churn1['tenure'])\n",
    "plt.show() #Outliers present so need to replace them with the median for any value greater than 500 as outlier lie after that in this case\n",
    "churn1['tenure']=np.where(churn1['tenure']>=500,churn1['tenure'].median(),churn1['tenure'])\n",
    "sns.boxenplot(y=churn1['tenure'])\n",
    "plt.show()"
   ]
  },
  {
   "cell_type": "code",
   "execution_count": 20,
   "id": "8880f1b2",
   "metadata": {},
   "outputs": [],
   "source": [
    "#Also there exists a logical fallacy about the 'InternetService' and its allied services. It may be possible if 'InternetServices' may be marked as 'No' but its allied services may be marked 'Yes', can be vice versa also\n",
    "#To solve this 2 approaches are there 1.) Brute force where if 'InternetService' marked 'No' then all the allied services also mark them as 'No'. 2) Logical Approach where if 'InternetService' marked 'No' but 2 or more allied services marked as 'Yes' this may indicate that possible error occured in 'InternetService' and it is marked as 'Yes'\n",
    "#Solving using logical approach\n",
    "y=churn1[(churn1.InternetService=='No')] #Subsetting the 'No' 'InternService'\n",
    "z=y.iloc[:,13:20] #Further subsetting the 'No' 'InternService' and its allied services\n",
    "\n",
    "for i, row in z.iterrows():\n",
    "    yes_cnt=row.str.count('Yes').sum()\n",
    "    if(yes_cnt>=2):\n",
    "        z.loc[i].InternetService='Yes'\n",
    "    else:\n",
    "        z.loc[i,:]='No interntet service'"
   ]
  },
  {
   "cell_type": "code",
   "execution_count": 21,
   "id": "89470aee",
   "metadata": {},
   "outputs": [
    {
     "name": "stdout",
     "output_type": "stream",
     "text": [
      "[1, 2, 3, 4, 5, 6, 7, 8, 9, 10, 11, 12, 13, 14, 15, 16, 17, 18, 19]\n",
      "[8, 6, 12, 1, 19, 13, 7, 14, 9, 10]\n",
      "[18, 6, 12, 7, 19, 15, 10, 9, 6, 18]\n"
     ]
    }
   ],
   "source": [
    "#Demo for Random sampling\n",
    "import random\n",
    "p1=list(range(1,20))\n",
    "print(p1)\n",
    "\n",
    "#Without replacement\n",
    "srswor=random.sample(population=p1,k=10)\n",
    "print(srswor)\n",
    "#With replacement\n",
    "srswr=random.choices(population=p1,k=10)\n",
    "print(srswr)\n",
    "churn1.to_csv('Clean_Churn_Data.csv',index=False)"
   ]
  }
 ],
 "metadata": {
  "kernelspec": {
   "display_name": "base",
   "language": "python",
   "name": "python3"
  },
  "language_info": {
   "codemirror_mode": {
    "name": "ipython",
    "version": 3
   },
   "file_extension": ".py",
   "mimetype": "text/x-python",
   "name": "python",
   "nbconvert_exporter": "python",
   "pygments_lexer": "ipython3",
   "version": "3.12.7"
  }
 },
 "nbformat": 4,
 "nbformat_minor": 5
}
