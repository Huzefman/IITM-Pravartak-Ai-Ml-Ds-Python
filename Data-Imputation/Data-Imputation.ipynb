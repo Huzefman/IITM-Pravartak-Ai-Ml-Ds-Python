{
 "cells": [
  {
   "cell_type": "code",
   "execution_count": 1,
   "id": "f2e432ac",
   "metadata": {},
   "outputs": [],
   "source": [
    "import pandas as pd\n",
    "import numpy as np\n",
    "import os"
   ]
  },
  {
   "cell_type": "code",
   "execution_count": 2,
   "id": "87a38ec0",
   "metadata": {},
   "outputs": [],
   "source": [
    "# Changing working directory to a new path\n",
    "os.chdir('/Users/huzefa/IITM-Pravartak-Ai-Ml-Ds-Python/Data-Imputation')"
   ]
  },
  {
   "cell_type": "code",
   "execution_count": 3,
   "id": "a2b85803",
   "metadata": {},
   "outputs": [
    {
     "name": "stdout",
     "output_type": "stream",
     "text": [
      "Current working directory: /Users/huzefa/IITM-Pravartak-Ai-Ml-Ds-Python/Data-Imputation\n"
     ]
    }
   ],
   "source": [
    "# Verify the change\n",
    "print(\"Current working directory:\", os.getcwd())"
   ]
  },
  {
   "cell_type": "code",
   "execution_count": 4,
   "id": "ba72ee20",
   "metadata": {},
   "outputs": [],
   "source": [
    "#Importing Data\n",
    "data=pd.read_csv('../DataSets/GTPvar.csv',index_col=0)"
   ]
  },
  {
   "cell_type": "code",
   "execution_count": 5,
   "id": "94198fcf",
   "metadata": {},
   "outputs": [
    {
     "data": {
      "text/plain": [
       "1      0\n",
       "2      0\n",
       "3      0\n",
       "4      0\n",
       "5      3\n",
       "      ..\n",
       "96     0\n",
       "97     5\n",
       "98     0\n",
       "99     0\n",
       "100    0\n",
       "Length: 100, dtype: int64"
      ]
     },
     "execution_count": 5,
     "metadata": {},
     "output_type": "execute_result"
    }
   ],
   "source": [
    "#Checking missing values columnwise\n",
    "data.isnull().sum(axis=1)"
   ]
  },
  {
   "cell_type": "code",
   "execution_count": 6,
   "id": "d425eb05",
   "metadata": {},
   "outputs": [],
   "source": [
    "#Creating new variable NApresent to contain all the rows' missing values sum\n",
    "data['NApresent']=data.isnull().sum(axis=1)"
   ]
  },
  {
   "cell_type": "code",
   "execution_count": 7,
   "id": "23541526",
   "metadata": {},
   "outputs": [],
   "source": [
    "#Extracting rows with no null values\n",
    "df=data[data.NApresent==0]"
   ]
  },
  {
   "cell_type": "code",
   "execution_count": 8,
   "id": "f7959406",
   "metadata": {},
   "outputs": [],
   "source": [
    "#Dropping NApresent column from df\n",
    "df=df.drop('NApresent',axis=1)"
   ]
  },
  {
   "cell_type": "code",
   "execution_count": 9,
   "id": "e3ed2477",
   "metadata": {},
   "outputs": [],
   "source": [
    "#Converting np to numpy array\n",
    "df_mat=df.to_numpy()"
   ]
  },
  {
   "cell_type": "code",
   "execution_count": 10,
   "id": "3380df94",
   "metadata": {},
   "outputs": [
    {
     "data": {
      "text/plain": [
       "5"
      ]
     },
     "execution_count": 10,
     "metadata": {},
     "output_type": "execute_result"
    }
   ],
   "source": [
    "#Rank of obtained matrix\n",
    "np.linalg.matrix_rank(df_mat)"
   ]
  },
  {
   "cell_type": "code",
   "execution_count": 11,
   "id": "3e57bac8",
   "metadata": {},
   "outputs": [],
   "source": [
    "#SVD decomposition\n",
    "v,s,u=np.linalg.svd(df_mat.T)"
   ]
  },
  {
   "cell_type": "code",
   "execution_count": 12,
   "id": "1b90a3f8",
   "metadata": {},
   "outputs": [],
   "source": [
    "#Setting tolerance\n",
    "tol=1e-8"
   ]
  },
  {
   "cell_type": "code",
   "execution_count": 13,
   "id": "18c941c9",
   "metadata": {},
   "outputs": [],
   "source": [
    "#Removing columns that are lesser than the tolerance\n",
    "rank=min(df_mat.shape)-np.abs(s)[::-1].searchsorted(tol)"
   ]
  },
  {
   "cell_type": "code",
   "execution_count": 14,
   "id": "ac40f071",
   "metadata": {},
   "outputs": [
    {
     "name": "stdout",
     "output_type": "stream",
     "text": [
      "[[ 0.04739523 -0.51877539  0.51908496 -0.66965893  0.10360266]\n",
      " [ 0.25290867 -0.74555191 -0.49550644  0.25256441  0.26622198]\n",
      " [-0.69130741  0.06619155 -0.47253226 -0.41182815  0.3533038 ]]\n"
     ]
    }
   ],
   "source": [
    "#Choosing the null space relation\n",
    "A=v[:,rank:]\n",
    "A=A.T\n",
    "print(A)"
   ]
  },
  {
   "cell_type": "code",
   "execution_count": 15,
   "id": "d4aace7e",
   "metadata": {},
   "outputs": [
    {
     "data": {
      "text/plain": [
       "3"
      ]
     },
     "execution_count": 15,
     "metadata": {},
     "output_type": "execute_result"
    }
   ],
   "source": [
    "#Perfoming transformations to obtain and impute possible missing values\n",
    "len(data)\n",
    "len(A)  "
   ]
  },
  {
   "cell_type": "code",
   "execution_count": 16,
   "id": "f5f0b03a",
   "metadata": {},
   "outputs": [],
   "source": [
    "for i in range(0,len(data)):\n",
    "    if((data.iloc[i,5]==0) | (data.iloc[i,5]>len(A))):\n",
    "        continue\n",
    "    else:\n",
    "        eqnsneeded=data.iloc[i,5]\n",
    "        aID=np.empty(0,dtype='int64')\n",
    "        bID=np.empty(0,dtype='int64')\n",
    "        for j in range(len(data.columns)-1):\n",
    "            if(pd.isnull(data.iloc[i,j])):\n",
    "                aID=np.append(aID,j)\n",
    "            else: bID=np.append(bID,j)\n",
    "        a=A[0:eqnsneeded,aID]\n",
    "        a=np.array(a)\n",
    "        x1=((data.iloc[i,bID].to_numpy()))\n",
    "        b2=-A[0:eqnsneeded,bID]\n",
    "        b=np.dot(b2,x1)\n",
    "        x=np.linalg.solve(a,b)\n",
    "        data.iloc[i,aID]=x"
   ]
  }
 ],
 "metadata": {
  "jupytext": {
   "cell_metadata_filter": "-all",
   "encoding": "# -*- coding: utf-8 -*-",
   "executable": "/usr/bin/env python3",
   "main_language": "python",
   "notebook_metadata_filter": "-all"
  },
  "kernelspec": {
   "display_name": "base",
   "language": "python",
   "name": "python3"
  },
  "language_info": {
   "codemirror_mode": {
    "name": "ipython",
    "version": 3
   },
   "file_extension": ".py",
   "mimetype": "text/x-python",
   "name": "python",
   "nbconvert_exporter": "python",
   "pygments_lexer": "ipython3",
   "version": "3.12.7"
  }
 },
 "nbformat": 4,
 "nbformat_minor": 5
}
